{
 "cells": [
  {
   "cell_type": "markdown",
   "id": "2249601d",
   "metadata": {},
   "source": [
    "*Este projeto está em desenvolvimento e tem como objetivo principal realizar web scraping no site da IMDb para analisar os 250 melhores filmes classificados....***"
   ]
  },
  {
   "cell_type": "markdown",
   "id": "ee266fb3",
   "metadata": {},
   "source": [
    "\n",
    "Vamos responder essas perguntas abaixo:\n",
    "\n",
    "Quais são os gêneros mais comuns entre os 250 melhores filmes?\n",
    "\n",
    "Quem são os diretores mais frequentes entre os 250 melhores filmes?\n",
    "\n",
    "Quais são os atores mais comuns entre os filmes do top 250?\n",
    "\n",
    "Quais são os anos com maior número de filmes no top 250?\n",
    "\n",
    "Qual é a média de duração dos filmes do top 250?\n",
    "\n",
    "Determine se existe uma tendência em relação ao tempo médio dos filmes."
   ]
  },
  {
   "cell_type": "markdown",
   "id": "0f6a7176",
   "metadata": {},
   "source": [
    "## WEB SCRAPING ##"
   ]
  },
  {
   "cell_type": "code",
   "execution_count": 37,
   "id": "e7e31334",
   "metadata": {},
   "outputs": [],
   "source": [
    "# Bibliotecas \n",
    "import requests as r\n",
    "from bs4 import BeautifulSoup\n",
    "import pandas as pd\n",
    "import json\n",
    "\n",
    "# O uso do cabeçalho \"User-Agent\" serve para simular um navegador real,\n",
    "# evitando que o site bloqueie a requisição por parecer ser feita por um bot.\n",
    "\n",
    "\n",
    "headers = {\n",
    "\n",
    "  'user-agent': 'Mozilla/5.0 (Windows NT 10.0; Win64; x64) AppleWebKit/537.36 (KHTML, like Gecko) Chrome/125.0.0.0 Safari/537.36'\n",
    "\n",
    "}\n",
    "response = r.get(\"https://www.imdb.com/pt/chart/top/?ref_=nv_mv_250\", headers=headers)\n",
    "\n",
    "\n",
    "# Faz o parsing do conteúdo HTML da página\n",
    "soup= BeautifulSoup(response.content, 'html.parser')\n",
    "\n",
    "# Extraindo o script JSON-LD e convertendo em dicionário Python\n",
    "df = soup.find('script', type='application/ld+json')\n",
    "\n",
    "# Transformando dados em formato de string json em dicionario python\n",
    "data =json.loads(df.string)"
   ]
  },
  {
   "cell_type": "code",
   "execution_count": 38,
   "id": "7ef70605",
   "metadata": {},
   "outputs": [
    {
     "data": {
      "text/plain": [
       "{'@type': 'ListItem',\n",
       " 'item': {'@type': 'Movie',\n",
       "  'url': 'https://www.imdb.com/pt/title/tt0111161/',\n",
       "  'name': 'The Shawshank Redemption',\n",
       "  'alternateName': 'Um Sonho de Liberdade',\n",
       "  'description': 'Dois homens presos se reúnem ao longo de vários anos, encontrando consolo e eventual redenção através de atos de decência comum.',\n",
       "  'image': 'https://m.media-amazon.com/images/M/MV5BYzU5NTFjNjItZGI1My00Y2Q0LTljOGUtMTFmZDNmMjZkZDIyXkEyXkFqcGc@._V1_.jpg',\n",
       "  'aggregateRating': {'@type': 'AggregateRating',\n",
       "   'bestRating': 10,\n",
       "   'worstRating': 1,\n",
       "   'ratingValue': 9.3,\n",
       "   'ratingCount': 3047789},\n",
       "  'contentRating': '16',\n",
       "  'genre': 'Drama',\n",
       "  'duration': 'PT2H22M'}}"
      ]
     },
     "execution_count": 38,
     "metadata": {},
     "output_type": "execute_result"
    }
   ],
   "source": [
    "# Agora temos um dicionario em python após transformação\n",
    "# Estou limintando quantidade item no dicionario para localizar o primerio com zero.\n",
    "data[\"itemListElement\"][0]"
   ]
  },
  {
   "cell_type": "code",
   "execution_count": 39,
   "id": "2c916c3b",
   "metadata": {},
   "outputs": [
    {
     "name": "stdout",
     "output_type": "stream",
     "text": [
      "250\n"
     ]
    }
   ],
   "source": [
    "# Podemos vê quantidade filme nesse dicionario\n",
    "\n",
    "print(len(data['itemListElement']))"
   ]
  },
  {
   "cell_type": "code",
   "execution_count": 40,
   "id": "956275de",
   "metadata": {},
   "outputs": [
    {
     "data": {
      "text/plain": [
       "{'@type': 'Movie',\n",
       " 'url': 'https://www.imdb.com/pt/title/tt0111161/',\n",
       " 'name': 'The Shawshank Redemption',\n",
       " 'alternateName': 'Um Sonho de Liberdade',\n",
       " 'description': 'Dois homens presos se reúnem ao longo de vários anos, encontrando consolo e eventual redenção através de atos de decência comum.',\n",
       " 'image': 'https://m.media-amazon.com/images/M/MV5BYzU5NTFjNjItZGI1My00Y2Q0LTljOGUtMTFmZDNmMjZkZDIyXkEyXkFqcGc@._V1_.jpg',\n",
       " 'aggregateRating': {'@type': 'AggregateRating',\n",
       "  'bestRating': 10,\n",
       "  'worstRating': 1,\n",
       "  'ratingValue': 9.3,\n",
       "  'ratingCount': 3047789},\n",
       " 'contentRating': '16',\n",
       " 'genre': 'Drama',\n",
       " 'duration': 'PT2H22M'}"
      ]
     },
     "execution_count": 40,
     "metadata": {},
     "output_type": "execute_result"
    }
   ],
   "source": [
    "# Agora vamos analisar as caractericas desse dicinario escolhendo o primerio filme\n",
    "\n",
    "data[\"itemListElement\"][0][\"item\"]"
   ]
  },
  {
   "cell_type": "markdown",
   "id": "e0508caa",
   "metadata": {},
   "source": [
    "## ETL -TRANTAMENTO DOS DADOS ##"
   ]
  },
  {
   "cell_type": "code",
   "execution_count": 41,
   "id": "71763cc7",
   "metadata": {},
   "outputs": [],
   "source": [
    "# Listas para armazenar os dados\n",
    "tipo = []\n",
    "name = []\n",
    "alternateName = []\n",
    "description = []\n",
    "image = []\n",
    "aggregateRating = [] \n",
    "contentRating = []\n",
    "genre = []\n",
    "duration = []\n",
    "\n",
    "# Iterando sobre os filmes\n",
    "for item in data['itemListElement']:\n",
    "    filme = item['item']\n",
    "    \n",
    "    tipo.append(filme.get('@type', ''))\n",
    "    name.append(filme.get('name', ''))\n",
    "    alternateName.append(filme.get('alternateName', ''))\n",
    "    description.append(filme.get('description', ''))\n",
    "    image.append(filme.get('image', ''))\n",
    "    aggregateRating.append(filme.get('aggregateRating', {}))  # Pode ser um dict\n",
    "    contentRating.append(filme.get('contentRating', ''))\n",
    "    genre.append(filme.get('genre', ''))\n",
    "    duration.append(filme.get('duration', ''))\n",
    "\n",
    "# Criando o DataFrame\n",
    "filmes_250 = pd.DataFrame({\n",
    "    'tipo': tipo,\n",
    "    'name': name,\n",
    "    'alternateName': alternateName,\n",
    "    'description': description,\n",
    "    'image': image,\n",
    "    'aggregateRating': aggregateRating,\n",
    "    'contentRating': contentRating,\n",
    "    'genre': genre,\n",
    "    'duration': duration\n",
    "})\n"
   ]
  },
  {
   "cell_type": "markdown",
   "id": "c2a5169c",
   "metadata": {},
   "source": [
    "**ETL - PARTE 2 -TRANSFORMANDO O CAMPO \"AggregateRating\" QUE POSSUEM EM DICIONARIO EM COLUNAS**"
   ]
  },
  {
   "cell_type": "code",
   "execution_count": 42,
   "id": "87713f4a",
   "metadata": {},
   "outputs": [],
   "source": [
    "# Garante que só processe se for um dicionário\n",
    "filmes_250['aggregate_type'] = filmes_250['aggregateRating'].apply(lambda x: x.get('@type') if isinstance(x, dict) else None)\n",
    "filmes_250['bestRating'] = filmes_250['aggregateRating'].apply(lambda x: x.get('bestRating') if isinstance(x, dict) else None)\n",
    "filmes_250['worstRating'] = filmes_250['aggregateRating'].apply(lambda x: x.get('worstRating') if isinstance(x, dict) else None)\n",
    "filmes_250['ratingValue'] = filmes_250['aggregateRating'].apply(lambda x: x.get('ratingValue') if isinstance(x, dict) else None)\n",
    "filmes_250['ratingCount'] = filmes_250['aggregateRating'].apply(lambda x: x.get('ratingCount') if isinstance(x, dict) else None)\n"
   ]
  },
  {
   "cell_type": "code",
   "execution_count": 43,
   "id": "836e700e",
   "metadata": {},
   "outputs": [
    {
     "name": "stdout",
     "output_type": "stream",
     "text": [
      "<class 'pandas.core.frame.DataFrame'>\n",
      "RangeIndex: 250 entries, 0 to 249\n",
      "Data columns (total 14 columns):\n",
      " #   Column           Non-Null Count  Dtype  \n",
      "---  ------           --------------  -----  \n",
      " 0   tipo             250 non-null    object \n",
      " 1   name             250 non-null    object \n",
      " 2   alternateName    250 non-null    object \n",
      " 3   description      250 non-null    object \n",
      " 4   image            250 non-null    object \n",
      " 5   aggregateRating  250 non-null    object \n",
      " 6   contentRating    250 non-null    object \n",
      " 7   genre            250 non-null    object \n",
      " 8   duration         250 non-null    object \n",
      " 9   aggregate_type   250 non-null    object \n",
      " 10  bestRating       250 non-null    int64  \n",
      " 11  worstRating      250 non-null    int64  \n",
      " 12  ratingValue      250 non-null    float64\n",
      " 13  ratingCount      250 non-null    int64  \n",
      "dtypes: float64(1), int64(3), object(10)\n",
      "memory usage: 27.5+ KB\n"
     ]
    }
   ],
   "source": [
    "filmes_250.info()"
   ]
  },
  {
   "cell_type": "code",
   "execution_count": 44,
   "id": "bab030d5",
   "metadata": {},
   "outputs": [
    {
     "data": {
      "text/plain": [
       "(250, 14)"
      ]
     },
     "execution_count": 44,
     "metadata": {},
     "output_type": "execute_result"
    }
   ],
   "source": [
    "filmes_250.shape"
   ]
  },
  {
   "cell_type": "code",
   "execution_count": 45,
   "id": "cb3e8ece",
   "metadata": {},
   "outputs": [
    {
     "data": {
      "text/html": [
       "<div>\n",
       "<style scoped>\n",
       "    .dataframe tbody tr th:only-of-type {\n",
       "        vertical-align: middle;\n",
       "    }\n",
       "\n",
       "    .dataframe tbody tr th {\n",
       "        vertical-align: top;\n",
       "    }\n",
       "\n",
       "    .dataframe thead th {\n",
       "        text-align: right;\n",
       "    }\n",
       "</style>\n",
       "<table border=\"1\" class=\"dataframe\">\n",
       "  <thead>\n",
       "    <tr style=\"text-align: right;\">\n",
       "      <th></th>\n",
       "      <th>tipo</th>\n",
       "      <th>name</th>\n",
       "      <th>alternateName</th>\n",
       "      <th>description</th>\n",
       "      <th>image</th>\n",
       "      <th>aggregateRating</th>\n",
       "      <th>contentRating</th>\n",
       "      <th>genre</th>\n",
       "      <th>duration</th>\n",
       "      <th>aggregate_type</th>\n",
       "      <th>bestRating</th>\n",
       "      <th>worstRating</th>\n",
       "      <th>ratingValue</th>\n",
       "      <th>ratingCount</th>\n",
       "    </tr>\n",
       "  </thead>\n",
       "  <tbody>\n",
       "    <tr>\n",
       "      <th>0</th>\n",
       "      <td>Movie</td>\n",
       "      <td>The Shawshank Redemption</td>\n",
       "      <td>Um Sonho de Liberdade</td>\n",
       "      <td>Dois homens presos se reúnem ao longo de vário...</td>\n",
       "      <td>https://m.media-amazon.com/images/M/MV5BYzU5NT...</td>\n",
       "      <td>{'@type': 'AggregateRating', 'bestRating': 10,...</td>\n",
       "      <td>16</td>\n",
       "      <td>Drama</td>\n",
       "      <td>PT2H22M</td>\n",
       "      <td>AggregateRating</td>\n",
       "      <td>10</td>\n",
       "      <td>1</td>\n",
       "      <td>9.3</td>\n",
       "      <td>3047789</td>\n",
       "    </tr>\n",
       "    <tr>\n",
       "      <th>1</th>\n",
       "      <td>Movie</td>\n",
       "      <td>The Godfather</td>\n",
       "      <td>O Poderoso Chefão</td>\n",
       "      <td>O patriarca idoso de uma dinastia do crime org...</td>\n",
       "      <td>https://m.media-amazon.com/images/M/MV5BYTRmMj...</td>\n",
       "      <td>{'@type': 'AggregateRating', 'bestRating': 10,...</td>\n",
       "      <td>14</td>\n",
       "      <td>Policial, Drama</td>\n",
       "      <td>PT2H55M</td>\n",
       "      <td>AggregateRating</td>\n",
       "      <td>10</td>\n",
       "      <td>1</td>\n",
       "      <td>9.2</td>\n",
       "      <td>2127665</td>\n",
       "    </tr>\n",
       "  </tbody>\n",
       "</table>\n",
       "</div>"
      ],
      "text/plain": [
       "    tipo                      name          alternateName  \\\n",
       "0  Movie  The Shawshank Redemption  Um Sonho de Liberdade   \n",
       "1  Movie             The Godfather      O Poderoso Chefão   \n",
       "\n",
       "                                         description  \\\n",
       "0  Dois homens presos se reúnem ao longo de vário...   \n",
       "1  O patriarca idoso de uma dinastia do crime org...   \n",
       "\n",
       "                                               image  \\\n",
       "0  https://m.media-amazon.com/images/M/MV5BYzU5NT...   \n",
       "1  https://m.media-amazon.com/images/M/MV5BYTRmMj...   \n",
       "\n",
       "                                     aggregateRating contentRating  \\\n",
       "0  {'@type': 'AggregateRating', 'bestRating': 10,...            16   \n",
       "1  {'@type': 'AggregateRating', 'bestRating': 10,...            14   \n",
       "\n",
       "             genre duration   aggregate_type  bestRating  worstRating  \\\n",
       "0            Drama  PT2H22M  AggregateRating          10            1   \n",
       "1  Policial, Drama  PT2H55M  AggregateRating          10            1   \n",
       "\n",
       "   ratingValue  ratingCount  \n",
       "0          9.3      3047789  \n",
       "1          9.2      2127665  "
      ]
     },
     "execution_count": 45,
     "metadata": {},
     "output_type": "execute_result"
    }
   ],
   "source": [
    "filmes_250.head(2)"
   ]
  },
  {
   "cell_type": "code",
   "execution_count": 51,
   "id": "9888256a",
   "metadata": {},
   "outputs": [
    {
     "data": {
      "text/html": [
       "<div>\n",
       "<style scoped>\n",
       "    .dataframe tbody tr th:only-of-type {\n",
       "        vertical-align: middle;\n",
       "    }\n",
       "\n",
       "    .dataframe tbody tr th {\n",
       "        vertical-align: top;\n",
       "    }\n",
       "\n",
       "    .dataframe thead th {\n",
       "        text-align: right;\n",
       "    }\n",
       "</style>\n",
       "<table border=\"1\" class=\"dataframe\">\n",
       "  <thead>\n",
       "    <tr style=\"text-align: right;\">\n",
       "      <th></th>\n",
       "      <th>Genero</th>\n",
       "      <th>proporção</th>\n",
       "    </tr>\n",
       "  </thead>\n",
       "  <tbody>\n",
       "    <tr>\n",
       "      <th>0</th>\n",
       "      <td>Drama</td>\n",
       "      <td>17</td>\n",
       "    </tr>\n",
       "    <tr>\n",
       "      <th>1</th>\n",
       "      <td>Policial, Drama</td>\n",
       "      <td>13</td>\n",
       "    </tr>\n",
       "    <tr>\n",
       "      <th>2</th>\n",
       "      <td>Policial, Drama, Mistério</td>\n",
       "      <td>10</td>\n",
       "    </tr>\n",
       "    <tr>\n",
       "      <th>3</th>\n",
       "      <td>Biografia, Drama, História</td>\n",
       "      <td>9</td>\n",
       "    </tr>\n",
       "    <tr>\n",
       "      <th>4</th>\n",
       "      <td>Animação, Aventura, Comédia</td>\n",
       "      <td>8</td>\n",
       "    </tr>\n",
       "    <tr>\n",
       "      <th>...</th>\n",
       "      <td>...</td>\n",
       "      <td>...</td>\n",
       "    </tr>\n",
       "    <tr>\n",
       "      <th>103</th>\n",
       "      <td>Animação, Drama, Fantasia</td>\n",
       "      <td>1</td>\n",
       "    </tr>\n",
       "    <tr>\n",
       "      <th>104</th>\n",
       "      <td>Animação, Aventura, Fantasia</td>\n",
       "      <td>1</td>\n",
       "    </tr>\n",
       "    <tr>\n",
       "      <th>105</th>\n",
       "      <td>Biografia, Drama, Guerra</td>\n",
       "      <td>1</td>\n",
       "    </tr>\n",
       "    <tr>\n",
       "      <th>106</th>\n",
       "      <td>Comédia, Guerra</td>\n",
       "      <td>1</td>\n",
       "    </tr>\n",
       "    <tr>\n",
       "      <th>107</th>\n",
       "      <td>Comédia, Drama, Fantasia</td>\n",
       "      <td>1</td>\n",
       "    </tr>\n",
       "  </tbody>\n",
       "</table>\n",
       "<p>108 rows × 2 columns</p>\n",
       "</div>"
      ],
      "text/plain": [
       "                           Genero  proporção\n",
       "0                           Drama         17\n",
       "1                 Policial, Drama         13\n",
       "2       Policial, Drama, Mistério         10\n",
       "3      Biografia, Drama, História          9\n",
       "4     Animação, Aventura, Comédia          8\n",
       "..                            ...        ...\n",
       "103     Animação, Drama, Fantasia          1\n",
       "104  Animação, Aventura, Fantasia          1\n",
       "105      Biografia, Drama, Guerra          1\n",
       "106               Comédia, Guerra          1\n",
       "107      Comédia, Drama, Fantasia          1\n",
       "\n",
       "[108 rows x 2 columns]"
      ]
     },
     "execution_count": 51,
     "metadata": {},
     "output_type": "execute_result"
    }
   ],
   "source": [
    "qtd_por_genero = filmes_250['genre'].value_counts().reset_index()\n",
    "qtd_por_genero.columns =['Genero','proporção']\n",
    "qtd_por_genero"
   ]
  },
  {
   "cell_type": "code",
   "execution_count": 56,
   "id": "53e6cffd",
   "metadata": {},
   "outputs": [],
   "source": [
    "filmes_250[['primeiro_genero', 'segundo_genero', 'terceiro_genero']] = filmes_250['genre'].str.split(pat=\",\", expand=True)"
   ]
  },
  {
   "cell_type": "code",
   "execution_count": 57,
   "id": "270fc7ba",
   "metadata": {},
   "outputs": [
    {
     "data": {
      "text/html": [
       "<div>\n",
       "<style scoped>\n",
       "    .dataframe tbody tr th:only-of-type {\n",
       "        vertical-align: middle;\n",
       "    }\n",
       "\n",
       "    .dataframe tbody tr th {\n",
       "        vertical-align: top;\n",
       "    }\n",
       "\n",
       "    .dataframe thead th {\n",
       "        text-align: right;\n",
       "    }\n",
       "</style>\n",
       "<table border=\"1\" class=\"dataframe\">\n",
       "  <thead>\n",
       "    <tr style=\"text-align: right;\">\n",
       "      <th></th>\n",
       "      <th>tipo</th>\n",
       "      <th>name</th>\n",
       "      <th>alternateName</th>\n",
       "      <th>description</th>\n",
       "      <th>image</th>\n",
       "      <th>aggregateRating</th>\n",
       "      <th>contentRating</th>\n",
       "      <th>genre</th>\n",
       "      <th>duration</th>\n",
       "      <th>aggregate_type</th>\n",
       "      <th>bestRating</th>\n",
       "      <th>worstRating</th>\n",
       "      <th>ratingValue</th>\n",
       "      <th>ratingCount</th>\n",
       "      <th>primeiro</th>\n",
       "      <th>segundo</th>\n",
       "      <th>terceiro</th>\n",
       "      <th>primeiro_genero</th>\n",
       "      <th>segundo_genero</th>\n",
       "      <th>terceiro_genero</th>\n",
       "    </tr>\n",
       "  </thead>\n",
       "  <tbody>\n",
       "    <tr>\n",
       "      <th>0</th>\n",
       "      <td>Movie</td>\n",
       "      <td>The Shawshank Redemption</td>\n",
       "      <td>Um Sonho de Liberdade</td>\n",
       "      <td>Dois homens presos se reúnem ao longo de vário...</td>\n",
       "      <td>https://m.media-amazon.com/images/M/MV5BYzU5NT...</td>\n",
       "      <td>{'@type': 'AggregateRating', 'bestRating': 10,...</td>\n",
       "      <td>16</td>\n",
       "      <td>Drama</td>\n",
       "      <td>PT2H22M</td>\n",
       "      <td>AggregateRating</td>\n",
       "      <td>10</td>\n",
       "      <td>1</td>\n",
       "      <td>9.3</td>\n",
       "      <td>3047789</td>\n",
       "      <td>Drama</td>\n",
       "      <td>None</td>\n",
       "      <td>None</td>\n",
       "      <td>Drama</td>\n",
       "      <td>None</td>\n",
       "      <td>None</td>\n",
       "    </tr>\n",
       "  </tbody>\n",
       "</table>\n",
       "</div>"
      ],
      "text/plain": [
       "    tipo                      name          alternateName  \\\n",
       "0  Movie  The Shawshank Redemption  Um Sonho de Liberdade   \n",
       "\n",
       "                                         description  \\\n",
       "0  Dois homens presos se reúnem ao longo de vário...   \n",
       "\n",
       "                                               image  \\\n",
       "0  https://m.media-amazon.com/images/M/MV5BYzU5NT...   \n",
       "\n",
       "                                     aggregateRating contentRating  genre  \\\n",
       "0  {'@type': 'AggregateRating', 'bestRating': 10,...            16  Drama   \n",
       "\n",
       "  duration   aggregate_type  bestRating  worstRating  ratingValue  \\\n",
       "0  PT2H22M  AggregateRating          10            1          9.3   \n",
       "\n",
       "   ratingCount primeiro segundo terceiro primeiro_genero segundo_genero  \\\n",
       "0      3047789    Drama    None     None           Drama           None   \n",
       "\n",
       "  terceiro_genero  \n",
       "0            None  "
      ]
     },
     "execution_count": 57,
     "metadata": {},
     "output_type": "execute_result"
    }
   ],
   "source": [
    "filmes_250.head(1)"
   ]
  },
  {
   "cell_type": "code",
   "execution_count": null,
   "id": "41332176",
   "metadata": {},
   "outputs": [],
   "source": [
    "qtd_filmes_por_genero = pd.concat(\n",
    "    [filmes_250['primeiro_genero'].value_counts().reset_index(),\n",
    "     filmes_250['primeiro_genero'].value_counts(normalize=True).reset_index(drop=True) * 100],\n",
    "    axis=1\n",
    ")"
   ]
  },
  {
   "cell_type": "code",
   "execution_count": null,
   "id": "4482e1a7",
   "metadata": {},
   "outputs": [
    {
     "data": {
      "image/png": "[encoded data removed]",
      "text/plain": [
       "<Figure size 1000x400 with 1 Axes>"
      ]
     },
     "metadata": {},
     "output_type": "display_data"
    }
   ],
   "source": [
    "fig, ax = plt.subplots(figsize=(10,4))\n",
    "ax.bar(qtd_filmes_por_genero['primeiro_genero'], qtd_filmes_por_genero['count'])\n",
    "ax.set_title(\"Distribuição de filmes por genero\\n250 melhores filmes\")\n",
    "ax.set_xlabel(\"Quantidade por genero\")\n",
    "ax.set_ylabel(\"Filme\")\n",
    "plt.show"
   ]
  }
 ],
 "metadata": {
  "kernelspec": {
   "display_name": "base",
   "language": "python",
   "name": "python3"
  },
  "language_info": {
   "codemirror_mode": {
    "name": "ipython",
    "version": 3
   },
   "file_extension": ".py",
   "mimetype": "text/x-python",
   "name": "python",
   "nbconvert_exporter": "python",
   "pygments_lexer": "ipython3",
   "version": "3.12.4"
  }
 },
 "nbformat": 4,
 "nbformat_minor": 5
}
