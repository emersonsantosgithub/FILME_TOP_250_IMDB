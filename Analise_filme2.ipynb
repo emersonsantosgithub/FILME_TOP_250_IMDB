{
 "cells": [
  {
   "cell_type": "markdown",
   "id": "2249601d",
   "metadata": {},
   "source": [
    "*Este projeto está em desenvolvimento e tem como objetivo principal realizar web scraping no site da IMDb para analisar os 250 melhores filmes classificados....***"
   ]
  },
  {
   "cell_type": "markdown",
   "id": "ee266fb3",
   "metadata": {},
   "source": [
    "\n",
    "Vamos responder essas perguntas abaixo:\n",
    "\n",
    "Quais são os gêneros mais comuns entre os 250 melhores filmes?\n",
    "\n",
    "Quem são os diretores mais frequentes entre os 250 melhores filmes?\n",
    "\n",
    "Quais são os atores mais comuns entre os filmes do top 250?\n",
    "\n",
    "Quais são os anos com maior número de filmes no top 250?\n",
    "\n",
    "Qual é a média de duração dos filmes do top 250?\n",
    "\n",
    "Determine se existe uma tendência em relação ao tempo médio dos filmes."
   ]
  },
  {
   "cell_type": "markdown",
   "id": "0f6a7176",
   "metadata": {},
   "source": [
    "## WEB SCRAPING ##"
   ]
  },
  {
   "cell_type": "code",
   "execution_count": 3,
   "id": "e7e31334",
   "metadata": {},
   "outputs": [],
   "source": [
    "# Bibliotecas \n",
    "import requests as r\n",
    "from bs4 import BeautifulSoup\n",
    "import pandas as pd\n",
    "import json\n",
    "\n",
    "# O uso do cabeçalho \"User-Agent\" serve para simular um navegador real,\n",
    "# evitando que o site bloqueie a requisição por parecer ser feita por um bot.\n",
    "\n",
    "\n",
    "headers = {\n",
    "\n",
    "  'user-agent': 'Mozilla/5.0 (Windows NT 10.0; Win64; x64) AppleWebKit/537.36 (KHTML, like Gecko) Chrome/125.0.0.0 Safari/537.36'\n",
    "\n",
    "}\n",
    "response = r.get(\"https://www.imdb.com/pt/chart/top/?ref_=nv_mv_250\", headers=headers)\n",
    "\n",
    "\n",
    "# Faz o parsing do conteúdo HTML da página\n",
    "soup= BeautifulSoup(response.content, 'html.parser')\n",
    "\n",
    "# Extraindo o script JSON-LD e convertendo em dicionário Python\n",
    "df = soup.find('script', type='application/ld+json')\n",
    "\n",
    "data =json.loads(df.string)"
   ]
  },
  {
   "cell_type": "markdown",
   "id": "e0508caa",
   "metadata": {},
   "source": [
    "## ETL -TRANTAMENTO DOS DADOS ##"
   ]
  },
  {
   "cell_type": "code",
   "execution_count": 4,
   "id": "71763cc7",
   "metadata": {},
   "outputs": [],
   "source": [
    "# Listas para armazenar os dados\n",
    "tipo = []\n",
    "name = []\n",
    "alternateName = []\n",
    "description = []\n",
    "image = []\n",
    "aggregateRating = [] \n",
    "contentRating = []\n",
    "genre = []\n",
    "duration = []\n",
    "\n",
    "# Iterando sobre os filmes\n",
    "for item in data['itemListElement']:\n",
    "    filme = item['item']\n",
    "    \n",
    "    tipo.append(filme.get('@type', ''))\n",
    "    name.append(filme.get('name', ''))\n",
    "    alternateName.append(filme.get('alternateName', ''))\n",
    "    description.append(filme.get('description', ''))\n",
    "    image.append(filme.get('image', ''))\n",
    "    aggregateRating.append(filme.get('aggregateRating', {}))  # Pode ser um dict\n",
    "    contentRating.append(filme.get('contentRating', ''))\n",
    "    genre.append(filme.get('genre', ''))\n",
    "    duration.append(filme.get('duration', ''))\n",
    "\n",
    "# Criando o DataFrame\n",
    "filmes_250 = pd.DataFrame({\n",
    "    'tipo': tipo,\n",
    "    'name': name,\n",
    "    'alternateName': alternateName,\n",
    "    'description': description,\n",
    "    'image': image,\n",
    "    'aggregateRating': aggregateRating,\n",
    "    'contentRating': contentRating,\n",
    "    'genre': genre,\n",
    "    'duration': duration\n",
    "})\n"
   ]
  },
  {
   "cell_type": "markdown",
   "id": "c2a5169c",
   "metadata": {},
   "source": [
    "**ETL - PARTE 2 -TRANSFORMANDO O CAMPO \"AggregateRating\" QUE POSSUEM EM DICIONARIO EM COLUNAS**"
   ]
  },
  {
   "cell_type": "code",
   "execution_count": 5,
   "id": "87713f4a",
   "metadata": {},
   "outputs": [],
   "source": [
    "# Garante que só processe se for um dicionário\n",
    "filmes_250['aggregate_type'] = filmes_250['aggregateRating'].apply(lambda x: x.get('@type') if isinstance(x, dict) else None)\n",
    "filmes_250['bestRating'] = filmes_250['aggregateRating'].apply(lambda x: x.get('bestRating') if isinstance(x, dict) else None)\n",
    "filmes_250['worstRating'] = filmes_250['aggregateRating'].apply(lambda x: x.get('worstRating') if isinstance(x, dict) else None)\n",
    "filmes_250['ratingValue'] = filmes_250['aggregateRating'].apply(lambda x: x.get('ratingValue') if isinstance(x, dict) else None)\n",
    "filmes_250['ratingCount'] = filmes_250['aggregateRating'].apply(lambda x: x.get('ratingCount') if isinstance(x, dict) else None)\n"
   ]
  },
  {
   "cell_type": "code",
   "execution_count": 6,
   "id": "836e700e",
   "metadata": {},
   "outputs": [
    {
     "name": "stdout",
     "output_type": "stream",
     "text": [
      "<class 'pandas.core.frame.DataFrame'>\n",
      "RangeIndex: 250 entries, 0 to 249\n",
      "Data columns (total 14 columns):\n",
      " #   Column           Non-Null Count  Dtype  \n",
      "---  ------           --------------  -----  \n",
      " 0   tipo             250 non-null    object \n",
      " 1   name             250 non-null    object \n",
      " 2   alternateName    250 non-null    object \n",
      " 3   description      250 non-null    object \n",
      " 4   image            250 non-null    object \n",
      " 5   aggregateRating  250 non-null    object \n",
      " 6   contentRating    250 non-null    object \n",
      " 7   genre            250 non-null    object \n",
      " 8   duration         250 non-null    object \n",
      " 9   aggregate_type   250 non-null    object \n",
      " 10  bestRating       250 non-null    int64  \n",
      " 11  worstRating      250 non-null    int64  \n",
      " 12  ratingValue      250 non-null    float64\n",
      " 13  ratingCount      250 non-null    int64  \n",
      "dtypes: float64(1), int64(3), object(10)\n",
      "memory usage: 27.5+ KB\n"
     ]
    }
   ],
   "source": [
    "filmes_250.info()"
   ]
  },
  {
   "cell_type": "code",
   "execution_count": 7,
   "id": "bab030d5",
   "metadata": {},
   "outputs": [
    {
     "data": {
      "text/plain": [
       "(250, 14)"
      ]
     },
     "execution_count": 7,
     "metadata": {},
     "output_type": "execute_result"
    }
   ],
   "source": [
    "filmes_250.shape"
   ]
  },
  {
   "cell_type": "code",
   "execution_count": 10,
   "id": "cb3e8ece",
   "metadata": {},
   "outputs": [
    {
     "data": {
      "text/html": [
       "<div>\n",
       "<style scoped>\n",
       "    .dataframe tbody tr th:only-of-type {\n",
       "        vertical-align: middle;\n",
       "    }\n",
       "\n",
       "    .dataframe tbody tr th {\n",
       "        vertical-align: top;\n",
       "    }\n",
       "\n",
       "    .dataframe thead th {\n",
       "        text-align: right;\n",
       "    }\n",
       "</style>\n",
       "<table border=\"1\" class=\"dataframe\">\n",
       "  <thead>\n",
       "    <tr style=\"text-align: right;\">\n",
       "      <th></th>\n",
       "      <th>tipo</th>\n",
       "      <th>name</th>\n",
       "      <th>alternateName</th>\n",
       "      <th>description</th>\n",
       "      <th>image</th>\n",
       "      <th>aggregateRating</th>\n",
       "      <th>contentRating</th>\n",
       "      <th>genre</th>\n",
       "      <th>duration</th>\n",
       "      <th>aggregate_type</th>\n",
       "      <th>bestRating</th>\n",
       "      <th>worstRating</th>\n",
       "      <th>ratingValue</th>\n",
       "      <th>ratingCount</th>\n",
       "    </tr>\n",
       "  </thead>\n",
       "  <tbody>\n",
       "    <tr>\n",
       "      <th>0</th>\n",
       "      <td>Movie</td>\n",
       "      <td>The Shawshank Redemption</td>\n",
       "      <td>Um Sonho de Liberdade</td>\n",
       "      <td>Dois homens presos se reúnem ao longo de vário...</td>\n",
       "      <td>https://m.media-amazon.com/images/M/MV5BYzU5NT...</td>\n",
       "      <td>{'@type': 'AggregateRating', 'bestRating': 10,...</td>\n",
       "      <td>16</td>\n",
       "      <td>Drama</td>\n",
       "      <td>PT2H22M</td>\n",
       "      <td>AggregateRating</td>\n",
       "      <td>10</td>\n",
       "      <td>1</td>\n",
       "      <td>9.3</td>\n",
       "      <td>3045011</td>\n",
       "    </tr>\n",
       "    <tr>\n",
       "      <th>1</th>\n",
       "      <td>Movie</td>\n",
       "      <td>The Godfather</td>\n",
       "      <td>O Poderoso Chefão</td>\n",
       "      <td>O patriarca idoso de uma dinastia do crime org...</td>\n",
       "      <td>https://m.media-amazon.com/images/M/MV5BYTRmMj...</td>\n",
       "      <td>{'@type': 'AggregateRating', 'bestRating': 10,...</td>\n",
       "      <td>14</td>\n",
       "      <td>Policial, Drama</td>\n",
       "      <td>PT2H55M</td>\n",
       "      <td>AggregateRating</td>\n",
       "      <td>10</td>\n",
       "      <td>1</td>\n",
       "      <td>9.2</td>\n",
       "      <td>2125585</td>\n",
       "    </tr>\n",
       "  </tbody>\n",
       "</table>\n",
       "</div>"
      ],
      "text/plain": [
       "    tipo                      name          alternateName  \\\n",
       "0  Movie  The Shawshank Redemption  Um Sonho de Liberdade   \n",
       "1  Movie             The Godfather      O Poderoso Chefão   \n",
       "\n",
       "                                         description  \\\n",
       "0  Dois homens presos se reúnem ao longo de vário...   \n",
       "1  O patriarca idoso de uma dinastia do crime org...   \n",
       "\n",
       "                                               image  \\\n",
       "0  https://m.media-amazon.com/images/M/MV5BYzU5NT...   \n",
       "1  https://m.media-amazon.com/images/M/MV5BYTRmMj...   \n",
       "\n",
       "                                     aggregateRating contentRating  \\\n",
       "0  {'@type': 'AggregateRating', 'bestRating': 10,...            16   \n",
       "1  {'@type': 'AggregateRating', 'bestRating': 10,...            14   \n",
       "\n",
       "             genre duration   aggregate_type  bestRating  worstRating  \\\n",
       "0            Drama  PT2H22M  AggregateRating          10            1   \n",
       "1  Policial, Drama  PT2H55M  AggregateRating          10            1   \n",
       "\n",
       "   ratingValue  ratingCount  \n",
       "0          9.3      3045011  \n",
       "1          9.2      2125585  "
      ]
     },
     "execution_count": 10,
     "metadata": {},
     "output_type": "execute_result"
    }
   ],
   "source": [
    "filmes_250.head(2)"
   ]
  },
  {
   "cell_type": "code",
   "execution_count": null,
   "id": "2809c9f6",
   "metadata": {},
   "outputs": [],
   "source": []
  }
 ],
 "metadata": {
  "kernelspec": {
   "display_name": "base",
   "language": "python",
   "name": "python3"
  },
  "language_info": {
   "codemirror_mode": {
    "name": "ipython",
    "version": 3
   },
   "file_extension": ".py",
   "mimetype": "text/x-python",
   "name": "python",
   "nbconvert_exporter": "python",
   "pygments_lexer": "ipython3",
   "version": "3.12.4"
  }
 },
 "nbformat": 4,
 "nbformat_minor": 5
}
